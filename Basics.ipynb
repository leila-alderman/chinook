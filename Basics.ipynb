{
 "cells": [
  {
   "cell_type": "markdown",
   "metadata": {
    "collapsed": true
   },
   "source": [
    "# Analyzing the Chinook Dataset\n",
    "\n",
    "In this project, I explore and analyze the Chinook dataset, which is a sample dataset with information on a system similar to iTunes. "
   ]
  },
  {
   "cell_type": "code",
   "execution_count": 1,
   "metadata": {
    "collapsed": true
   },
   "outputs": [],
   "source": [
    "# Start by importing modules and running Jupyter magic.\n",
    "import pandas as pd\n",
    "import matplotlib.pyplot as plt\n",
    "import sqlite3\n",
    "%matplotlib inline"
   ]
  },
  {
   "cell_type": "code",
   "execution_count": 2,
   "metadata": {
    "collapsed": false
   },
   "outputs": [],
   "source": [
    "# Create a function that takes in a SQL query and \n",
    "# returns a pandas dataframe of the results.\n",
    "def run_query(q):\n",
    "    with sqlite3.connect('chinook.db') as conn:\n",
    "        return pd.read_sql(q, conn)"
   ]
  },
  {
   "cell_type": "code",
   "execution_count": 3,
   "metadata": {
    "collapsed": true
   },
   "outputs": [],
   "source": [
    "# Create a function that takes a SQL command and executes it\n",
    "def run_command(c):\n",
    "    with sqlite3.connect('chinook.db') as conn:\n",
    "        conn.isolation_level = None\n",
    "        conn.execute(c)"
   ]
  },
  {
   "cell_type": "code",
   "execution_count": 48,
   "metadata": {
    "collapsed": true
   },
   "outputs": [],
   "source": [
    "# Create a function that returns a list of all tables and views\n",
    "def show_tables():\n",
    "    show_query = \"SELECT name, type FROM sqlite_master \\\n",
    "        WHERE type IN ('table', 'view')\"\n",
    "    return run_query(show_query)"
   ]
  },
  {
   "cell_type": "markdown",
   "metadata": {
    "collapsed": true
   },
   "source": [
    "## Most Popular Music Genres in America\n",
    "\n",
    "Let's start by seeing which genres sell the most tracks in the USA and create a visualization of that data."
   ]
  },
  {
   "cell_type": "code",
   "execution_count": 53,
   "metadata": {
    "collapsed": false
   },
   "outputs": [
    {
     "data": {
      "text/html": [
       "<div>\n",
       "<style scoped>\n",
       "    .dataframe tbody tr th:only-of-type {\n",
       "        vertical-align: middle;\n",
       "    }\n",
       "\n",
       "    .dataframe tbody tr th {\n",
       "        vertical-align: top;\n",
       "    }\n",
       "\n",
       "    .dataframe thead th {\n",
       "        text-align: right;\n",
       "    }\n",
       "</style>\n",
       "<table border=\"1\" class=\"dataframe\">\n",
       "  <thead>\n",
       "    <tr style=\"text-align: right;\">\n",
       "      <th></th>\n",
       "      <th>genre</th>\n",
       "      <th>num_sold</th>\n",
       "      <th>percent_sold</th>\n",
       "    </tr>\n",
       "  </thead>\n",
       "  <tbody>\n",
       "    <tr>\n",
       "      <th>0</th>\n",
       "      <td>Rock</td>\n",
       "      <td>561</td>\n",
       "      <td>53.38</td>\n",
       "    </tr>\n",
       "    <tr>\n",
       "      <th>1</th>\n",
       "      <td>Alternative &amp; Punk</td>\n",
       "      <td>130</td>\n",
       "      <td>12.37</td>\n",
       "    </tr>\n",
       "    <tr>\n",
       "      <th>2</th>\n",
       "      <td>Metal</td>\n",
       "      <td>124</td>\n",
       "      <td>11.80</td>\n",
       "    </tr>\n",
       "    <tr>\n",
       "      <th>3</th>\n",
       "      <td>R&amp;B/Soul</td>\n",
       "      <td>53</td>\n",
       "      <td>5.04</td>\n",
       "    </tr>\n",
       "    <tr>\n",
       "      <th>4</th>\n",
       "      <td>Blues</td>\n",
       "      <td>36</td>\n",
       "      <td>3.43</td>\n",
       "    </tr>\n",
       "    <tr>\n",
       "      <th>5</th>\n",
       "      <td>Alternative</td>\n",
       "      <td>35</td>\n",
       "      <td>3.33</td>\n",
       "    </tr>\n",
       "    <tr>\n",
       "      <th>6</th>\n",
       "      <td>Latin</td>\n",
       "      <td>22</td>\n",
       "      <td>2.09</td>\n",
       "    </tr>\n",
       "    <tr>\n",
       "      <th>7</th>\n",
       "      <td>Pop</td>\n",
       "      <td>22</td>\n",
       "      <td>2.09</td>\n",
       "    </tr>\n",
       "    <tr>\n",
       "      <th>8</th>\n",
       "      <td>Hip Hop/Rap</td>\n",
       "      <td>20</td>\n",
       "      <td>1.90</td>\n",
       "    </tr>\n",
       "    <tr>\n",
       "      <th>9</th>\n",
       "      <td>Jazz</td>\n",
       "      <td>14</td>\n",
       "      <td>1.33</td>\n",
       "    </tr>\n",
       "    <tr>\n",
       "      <th>10</th>\n",
       "      <td>Easy Listening</td>\n",
       "      <td>13</td>\n",
       "      <td>1.24</td>\n",
       "    </tr>\n",
       "    <tr>\n",
       "      <th>11</th>\n",
       "      <td>Reggae</td>\n",
       "      <td>6</td>\n",
       "      <td>0.57</td>\n",
       "    </tr>\n",
       "    <tr>\n",
       "      <th>12</th>\n",
       "      <td>Electronica/Dance</td>\n",
       "      <td>5</td>\n",
       "      <td>0.48</td>\n",
       "    </tr>\n",
       "    <tr>\n",
       "      <th>13</th>\n",
       "      <td>Classical</td>\n",
       "      <td>4</td>\n",
       "      <td>0.38</td>\n",
       "    </tr>\n",
       "    <tr>\n",
       "      <th>14</th>\n",
       "      <td>Heavy Metal</td>\n",
       "      <td>3</td>\n",
       "      <td>0.29</td>\n",
       "    </tr>\n",
       "    <tr>\n",
       "      <th>15</th>\n",
       "      <td>Soundtrack</td>\n",
       "      <td>2</td>\n",
       "      <td>0.19</td>\n",
       "    </tr>\n",
       "    <tr>\n",
       "      <th>16</th>\n",
       "      <td>TV Shows</td>\n",
       "      <td>1</td>\n",
       "      <td>0.10</td>\n",
       "    </tr>\n",
       "  </tbody>\n",
       "</table>\n",
       "</div>"
      ],
      "text/plain": [
       "                 genre  num_sold  percent_sold\n",
       "0                 Rock       561         53.38\n",
       "1   Alternative & Punk       130         12.37\n",
       "2                Metal       124         11.80\n",
       "3             R&B/Soul        53          5.04\n",
       "4                Blues        36          3.43\n",
       "5          Alternative        35          3.33\n",
       "6                Latin        22          2.09\n",
       "7                  Pop        22          2.09\n",
       "8          Hip Hop/Rap        20          1.90\n",
       "9                 Jazz        14          1.33\n",
       "10      Easy Listening        13          1.24\n",
       "11              Reggae         6          0.57\n",
       "12   Electronica/Dance         5          0.48\n",
       "13           Classical         4          0.38\n",
       "14         Heavy Metal         3          0.29\n",
       "15          Soundtrack         2          0.19\n",
       "16            TV Shows         1          0.10"
      ]
     },
     "execution_count": 53,
     "metadata": {},
     "output_type": "execute_result"
    }
   ],
   "source": [
    "q1 = '''\n",
    "WITH \n",
    "usa_sales AS (\n",
    "    SELECT \n",
    "        SUM(quantity) total\n",
    "    FROM invoice_line il\n",
    "    INNER JOIN invoice i ON i.invoice_id = il.invoice_id\n",
    "    WHERE i.billing_country = 'USA')\n",
    "SELECT \n",
    "    g.name genre, \n",
    "    SUM(il.quantity) num_sold, \n",
    "    ROUND((CAST(SUM(il.quantity) as float) / (SELECT total FROM usa_sales)) * 100, 2) \\\n",
    "        percent_sold \n",
    "FROM invoice_line il\n",
    "INNER JOIN invoice i ON i.invoice_id = il.invoice_id \n",
    "INNER JOIN track t ON il.track_id = t.track_id \n",
    "INNER JOIN genre g ON t.genre_id = g.genre_id \n",
    "WHERE i.billing_country = 'USA' \n",
    "GROUP BY 1 \n",
    "ORDER BY 2 DESC\n",
    "'''\n",
    "\n",
    "run_query(q1)"
   ]
  },
  {
   "cell_type": "code",
   "execution_count": 63,
   "metadata": {
    "collapsed": false
   },
   "outputs": [
    {
     "data": {
      "text/plain": [
       "<matplotlib.axes._subplots.AxesSubplot at 0x7f9f48258f28>"
      ]
     },
     "execution_count": 63,
     "metadata": {},
     "output_type": "execute_result"
    },
    {
     "data": {
      "image/png": "[encoded data removed]",
      "text/plain": [
       "<matplotlib.figure.Figure at 0x7f9f483f1d30>"
      ]
     },
     "metadata": {},
     "output_type": "display_data"
    }
   ],
   "source": [
    "genre_sales_usa = run_query(q1)\n",
    "\n",
    "# Use .set_index() to make the genres the index labels for the plots.\n",
    "genre_sales_usa.set_index('genre', drop=True, inplace=True)\n",
    "colors = [(31/255, 119/255, 180/255), (255/255, 127/255, 14/255), (44/255, 160/255, 44/255), (214/255, 39/255, 40/255), (148/255, 103/255, 189/255), (140/255, 86/255, 75/255), (227/255, 119/255, 194/255), (127/255, 127/255, 127/255), (188/255, 189/255, 34/255), (23/255, 190/255, 207/255),(148/255, 103/255, 189/255), (140/255, 86/255, 75/255)]\n",
    "genre_sales_usa.num_sold.iloc[:10].plot.barh(title = \"Top Ten Music Genres in America\", color=colors)"
   ]
  },
  {
   "cell_type": "code",
   "execution_count": 66,
   "metadata": {
    "collapsed": false
   },
   "outputs": [
    {
     "data": {
      "text/plain": [
       "<matplotlib.axes._subplots.AxesSubplot at 0x7f9f48cb7470>"
      ]
     },
     "execution_count": 66,
     "metadata": {},
     "output_type": "execute_result"
    },
    {
     "data": {
      "image/png": "[encoded data removed]",
      "text/plain": [
       "<matplotlib.figure.Figure at 0x7f9f4837f9b0>"
      ]
     },
     "metadata": {},
     "output_type": "display_data"
    }
   ],
   "source": [
    "# Create an \"other\" category for better visualization.\n",
    "# Select all genres that have more than 1% of the total.\n",
    "genre_sales_usa = genre_sales_usa.iloc[:11]\n",
    "genre_sales_usa.loc[\"Other\"] = 21\n",
    "genre_sales_usa.num_sold.plot.pie(figsize=(8,8), colors=colors,\n",
    "                                     title = \"Top Ten Music Genres in America\",\n",
    "                                     autopct='%1.1f%%', pctdistance = 0.85)"
   ]
  },
  {
   "cell_type": "markdown",
   "metadata": {
    "collapsed": true
   },
   "source": [
    "Representing more than half of all tracks sold in the USA, Rock is clearly a popular music choice in America. At approximately 12% each, Alternative & Punk and Metal are roughly tied for the second most popular genres. All of the other music genres have 5% of less of the total tracks sold. "
   ]
  },
  {
   "cell_type": "markdown",
   "metadata": {},
   "source": [
    "## Employee Sales Performance\n",
    "\n",
    "Next, we'll examine the sales performance of the employees at Chinook. When a customer first makes a purchase from Chinook, they are assigned a sales support agent. We will analyze the purchasing behavior of customers for each employee to see which sales support agents are performing better or worse."
   ]
  },
  {
   "cell_type": "code",
   "execution_count": 8,
   "metadata": {
    "collapsed": false
   },
   "outputs": [
    {
     "data": {
      "text/html": [
       "<div>\n",
       "<style scoped>\n",
       "    .dataframe tbody tr th:only-of-type {\n",
       "        vertical-align: middle;\n",
       "    }\n",
       "\n",
       "    .dataframe tbody tr th {\n",
       "        vertical-align: top;\n",
       "    }\n",
       "\n",
       "    .dataframe thead th {\n",
       "        text-align: right;\n",
       "    }\n",
       "</style>\n",
       "<table border=\"1\" class=\"dataframe\">\n",
       "  <thead>\n",
       "    <tr style=\"text-align: right;\">\n",
       "      <th></th>\n",
       "      <th>employee</th>\n",
       "      <th>hire_date</th>\n",
       "      <th>manager</th>\n",
       "      <th>total_sales</th>\n",
       "    </tr>\n",
       "  </thead>\n",
       "  <tbody>\n",
       "    <tr>\n",
       "      <th>0</th>\n",
       "      <td>Steve Johnson</td>\n",
       "      <td>2017-10-17 00:00:00</td>\n",
       "      <td>Nancy Edwards</td>\n",
       "      <td>1393.92</td>\n",
       "    </tr>\n",
       "    <tr>\n",
       "      <th>1</th>\n",
       "      <td>Margaret Park</td>\n",
       "      <td>2017-05-03 00:00:00</td>\n",
       "      <td>Nancy Edwards</td>\n",
       "      <td>1584.00</td>\n",
       "    </tr>\n",
       "    <tr>\n",
       "      <th>2</th>\n",
       "      <td>Jane Peacock</td>\n",
       "      <td>2017-04-01 00:00:00</td>\n",
       "      <td>Nancy Edwards</td>\n",
       "      <td>1731.51</td>\n",
       "    </tr>\n",
       "  </tbody>\n",
       "</table>\n",
       "</div>"
      ],
      "text/plain": [
       "        employee            hire_date        manager  total_sales\n",
       "0  Steve Johnson  2017-10-17 00:00:00  Nancy Edwards      1393.92\n",
       "1  Margaret Park  2017-05-03 00:00:00  Nancy Edwards      1584.00\n",
       "2   Jane Peacock  2017-04-01 00:00:00  Nancy Edwards      1731.51"
      ]
     },
     "execution_count": 8,
     "metadata": {},
     "output_type": "execute_result"
    }
   ],
   "source": [
    "# Find the total dollar amount of sales assigned to each sales support agent\n",
    "# Add any additional attributes that may be relevant to performance\n",
    "q2 = '''\n",
    "SELECT\n",
    "    e.first_name||' '||e.last_name employee,\n",
    "    e.hire_date,\n",
    "    e2.first_name||' '||e2.last_name manager,\n",
    "    SUM(i.total) total_sales\n",
    "FROM employee e\n",
    "INNER JOIN employee e2 ON e.reports_to = e2.employee_id\n",
    "INNER JOIN customer c ON c.support_rep_id = e.employee_id\n",
    "INNER JOIN invoice i ON c.customer_id = i.customer_id\n",
    "WHERE e.title = 'Sales Support Agent'\n",
    "GROUP BY 1\n",
    "ORDER BY 4\n",
    "'''\n",
    "\n",
    "run_query(q2)"
   ]
  },
  {
   "cell_type": "code",
   "execution_count": 9,
   "metadata": {
    "collapsed": false
   },
   "outputs": [
    {
     "data": {
      "text/plain": [
       "<matplotlib.axes._subplots.AxesSubplot at 0x7f9f545af940>"
      ]
     },
     "execution_count": 9,
     "metadata": {},
     "output_type": "execute_result"
    },
    {
     "data": {
      "image/png": "[encoded data removed]",
      "text/plain": [
       "<matplotlib.figure.Figure at 0x7f9f4a823d68>"
      ]
     },
     "metadata": {},
     "output_type": "display_data"
    }
   ],
   "source": [
    "employee_sales = run_query(q2)\n",
    "\n",
    "# Plot the sales of the three agents\n",
    "employee_sales.set_index(\"employee\", drop=True, inplace=True)\n",
    "employee_sales.total_sales.plot.bar()"
   ]
  },
  {
   "cell_type": "code",
   "execution_count": 10,
   "metadata": {
    "collapsed": false
   },
   "outputs": [
    {
     "data": {
      "text/html": [
       "<div>\n",
       "<style scoped>\n",
       "    .dataframe tbody tr th:only-of-type {\n",
       "        vertical-align: middle;\n",
       "    }\n",
       "\n",
       "    .dataframe tbody tr th {\n",
       "        vertical-align: top;\n",
       "    }\n",
       "\n",
       "    .dataframe thead th {\n",
       "        text-align: right;\n",
       "    }\n",
       "</style>\n",
       "<table border=\"1\" class=\"dataframe\">\n",
       "  <thead>\n",
       "    <tr style=\"text-align: right;\">\n",
       "      <th></th>\n",
       "      <th>invoice_date</th>\n",
       "    </tr>\n",
       "  </thead>\n",
       "  <tbody>\n",
       "    <tr>\n",
       "      <th>0</th>\n",
       "      <td>2017-01-03 00:00:00</td>\n",
       "    </tr>\n",
       "    <tr>\n",
       "      <th>1</th>\n",
       "      <td>2017-01-05 00:00:00</td>\n",
       "    </tr>\n",
       "    <tr>\n",
       "      <th>2</th>\n",
       "      <td>2017-01-06 00:00:00</td>\n",
       "    </tr>\n",
       "    <tr>\n",
       "      <th>3</th>\n",
       "      <td>2017-01-07 00:00:00</td>\n",
       "    </tr>\n",
       "    <tr>\n",
       "      <th>4</th>\n",
       "      <td>2017-01-10 00:00:00</td>\n",
       "    </tr>\n",
       "    <tr>\n",
       "      <th>5</th>\n",
       "      <td>2017-01-12 00:00:00</td>\n",
       "    </tr>\n",
       "    <tr>\n",
       "      <th>6</th>\n",
       "      <td>2017-01-13 00:00:00</td>\n",
       "    </tr>\n",
       "    <tr>\n",
       "      <th>7</th>\n",
       "      <td>2017-01-18 00:00:00</td>\n",
       "    </tr>\n",
       "    <tr>\n",
       "      <th>8</th>\n",
       "      <td>2017-01-20 00:00:00</td>\n",
       "    </tr>\n",
       "    <tr>\n",
       "      <th>9</th>\n",
       "      <td>2017-01-21 00:00:00</td>\n",
       "    </tr>\n",
       "    <tr>\n",
       "      <th>10</th>\n",
       "      <td>2017-01-22 00:00:00</td>\n",
       "    </tr>\n",
       "    <tr>\n",
       "      <th>11</th>\n",
       "      <td>2017-01-23 00:00:00</td>\n",
       "    </tr>\n",
       "    <tr>\n",
       "      <th>12</th>\n",
       "      <td>2017-01-25 00:00:00</td>\n",
       "    </tr>\n",
       "    <tr>\n",
       "      <th>13</th>\n",
       "      <td>2017-01-26 00:00:00</td>\n",
       "    </tr>\n",
       "    <tr>\n",
       "      <th>14</th>\n",
       "      <td>2017-01-28 00:00:00</td>\n",
       "    </tr>\n",
       "    <tr>\n",
       "      <th>15</th>\n",
       "      <td>2017-02-02 00:00:00</td>\n",
       "    </tr>\n",
       "    <tr>\n",
       "      <th>16</th>\n",
       "      <td>2017-02-06 00:00:00</td>\n",
       "    </tr>\n",
       "    <tr>\n",
       "      <th>17</th>\n",
       "      <td>2017-02-07 00:00:00</td>\n",
       "    </tr>\n",
       "    <tr>\n",
       "      <th>18</th>\n",
       "      <td>2017-02-08 00:00:00</td>\n",
       "    </tr>\n",
       "    <tr>\n",
       "      <th>19</th>\n",
       "      <td>2017-02-09 00:00:00</td>\n",
       "    </tr>\n",
       "    <tr>\n",
       "      <th>20</th>\n",
       "      <td>2017-02-10 00:00:00</td>\n",
       "    </tr>\n",
       "    <tr>\n",
       "      <th>21</th>\n",
       "      <td>2017-02-11 00:00:00</td>\n",
       "    </tr>\n",
       "    <tr>\n",
       "      <th>22</th>\n",
       "      <td>2017-02-15 00:00:00</td>\n",
       "    </tr>\n",
       "    <tr>\n",
       "      <th>23</th>\n",
       "      <td>2017-02-17 00:00:00</td>\n",
       "    </tr>\n",
       "    <tr>\n",
       "      <th>24</th>\n",
       "      <td>2017-02-18 00:00:00</td>\n",
       "    </tr>\n",
       "    <tr>\n",
       "      <th>25</th>\n",
       "      <td>2017-02-21 00:00:00</td>\n",
       "    </tr>\n",
       "    <tr>\n",
       "      <th>26</th>\n",
       "      <td>2017-02-23 00:00:00</td>\n",
       "    </tr>\n",
       "    <tr>\n",
       "      <th>27</th>\n",
       "      <td>2017-02-25 00:00:00</td>\n",
       "    </tr>\n",
       "    <tr>\n",
       "      <th>28</th>\n",
       "      <td>2017-02-27 00:00:00</td>\n",
       "    </tr>\n",
       "    <tr>\n",
       "      <th>29</th>\n",
       "      <td>2017-03-05 00:00:00</td>\n",
       "    </tr>\n",
       "    <tr>\n",
       "      <th>...</th>\n",
       "      <td>...</td>\n",
       "    </tr>\n",
       "    <tr>\n",
       "      <th>473</th>\n",
       "      <td>2020-10-21 00:00:00</td>\n",
       "    </tr>\n",
       "    <tr>\n",
       "      <th>474</th>\n",
       "      <td>2020-10-23 00:00:00</td>\n",
       "    </tr>\n",
       "    <tr>\n",
       "      <th>475</th>\n",
       "      <td>2020-10-25 00:00:00</td>\n",
       "    </tr>\n",
       "    <tr>\n",
       "      <th>476</th>\n",
       "      <td>2020-10-26 00:00:00</td>\n",
       "    </tr>\n",
       "    <tr>\n",
       "      <th>477</th>\n",
       "      <td>2020-10-30 00:00:00</td>\n",
       "    </tr>\n",
       "    <tr>\n",
       "      <th>478</th>\n",
       "      <td>2020-10-31 00:00:00</td>\n",
       "    </tr>\n",
       "    <tr>\n",
       "      <th>479</th>\n",
       "      <td>2020-11-01 00:00:00</td>\n",
       "    </tr>\n",
       "    <tr>\n",
       "      <th>480</th>\n",
       "      <td>2020-11-07 00:00:00</td>\n",
       "    </tr>\n",
       "    <tr>\n",
       "      <th>481</th>\n",
       "      <td>2020-11-12 00:00:00</td>\n",
       "    </tr>\n",
       "    <tr>\n",
       "      <th>482</th>\n",
       "      <td>2020-11-17 00:00:00</td>\n",
       "    </tr>\n",
       "    <tr>\n",
       "      <th>483</th>\n",
       "      <td>2020-11-20 00:00:00</td>\n",
       "    </tr>\n",
       "    <tr>\n",
       "      <th>484</th>\n",
       "      <td>2020-11-21 00:00:00</td>\n",
       "    </tr>\n",
       "    <tr>\n",
       "      <th>485</th>\n",
       "      <td>2020-11-23 00:00:00</td>\n",
       "    </tr>\n",
       "    <tr>\n",
       "      <th>486</th>\n",
       "      <td>2020-11-24 00:00:00</td>\n",
       "    </tr>\n",
       "    <tr>\n",
       "      <th>487</th>\n",
       "      <td>2020-11-27 00:00:00</td>\n",
       "    </tr>\n",
       "    <tr>\n",
       "      <th>488</th>\n",
       "      <td>2020-11-28 00:00:00</td>\n",
       "    </tr>\n",
       "    <tr>\n",
       "      <th>489</th>\n",
       "      <td>2020-12-04 00:00:00</td>\n",
       "    </tr>\n",
       "    <tr>\n",
       "      <th>490</th>\n",
       "      <td>2020-12-06 00:00:00</td>\n",
       "    </tr>\n",
       "    <tr>\n",
       "      <th>491</th>\n",
       "      <td>2020-12-08 00:00:00</td>\n",
       "    </tr>\n",
       "    <tr>\n",
       "      <th>492</th>\n",
       "      <td>2020-12-09 00:00:00</td>\n",
       "    </tr>\n",
       "    <tr>\n",
       "      <th>493</th>\n",
       "      <td>2020-12-10 00:00:00</td>\n",
       "    </tr>\n",
       "    <tr>\n",
       "      <th>494</th>\n",
       "      <td>2020-12-12 00:00:00</td>\n",
       "    </tr>\n",
       "    <tr>\n",
       "      <th>495</th>\n",
       "      <td>2020-12-17 00:00:00</td>\n",
       "    </tr>\n",
       "    <tr>\n",
       "      <th>496</th>\n",
       "      <td>2020-12-18 00:00:00</td>\n",
       "    </tr>\n",
       "    <tr>\n",
       "      <th>497</th>\n",
       "      <td>2020-12-19 00:00:00</td>\n",
       "    </tr>\n",
       "    <tr>\n",
       "      <th>498</th>\n",
       "      <td>2020-12-20 00:00:00</td>\n",
       "    </tr>\n",
       "    <tr>\n",
       "      <th>499</th>\n",
       "      <td>2020-12-21 00:00:00</td>\n",
       "    </tr>\n",
       "    <tr>\n",
       "      <th>500</th>\n",
       "      <td>2020-12-27 00:00:00</td>\n",
       "    </tr>\n",
       "    <tr>\n",
       "      <th>501</th>\n",
       "      <td>2020-12-29 00:00:00</td>\n",
       "    </tr>\n",
       "    <tr>\n",
       "      <th>502</th>\n",
       "      <td>2020-12-30 00:00:00</td>\n",
       "    </tr>\n",
       "  </tbody>\n",
       "</table>\n",
       "<p>503 rows × 1 columns</p>\n",
       "</div>"
      ],
      "text/plain": [
       "            invoice_date\n",
       "0    2017-01-03 00:00:00\n",
       "1    2017-01-05 00:00:00\n",
       "2    2017-01-06 00:00:00\n",
       "3    2017-01-07 00:00:00\n",
       "4    2017-01-10 00:00:00\n",
       "5    2017-01-12 00:00:00\n",
       "6    2017-01-13 00:00:00\n",
       "7    2017-01-18 00:00:00\n",
       "8    2017-01-20 00:00:00\n",
       "9    2017-01-21 00:00:00\n",
       "10   2017-01-22 00:00:00\n",
       "11   2017-01-23 00:00:00\n",
       "12   2017-01-25 00:00:00\n",
       "13   2017-01-26 00:00:00\n",
       "14   2017-01-28 00:00:00\n",
       "15   2017-02-02 00:00:00\n",
       "16   2017-02-06 00:00:00\n",
       "17   2017-02-07 00:00:00\n",
       "18   2017-02-08 00:00:00\n",
       "19   2017-02-09 00:00:00\n",
       "20   2017-02-10 00:00:00\n",
       "21   2017-02-11 00:00:00\n",
       "22   2017-02-15 00:00:00\n",
       "23   2017-02-17 00:00:00\n",
       "24   2017-02-18 00:00:00\n",
       "25   2017-02-21 00:00:00\n",
       "26   2017-02-23 00:00:00\n",
       "27   2017-02-25 00:00:00\n",
       "28   2017-02-27 00:00:00\n",
       "29   2017-03-05 00:00:00\n",
       "..                   ...\n",
       "473  2020-10-21 00:00:00\n",
       "474  2020-10-23 00:00:00\n",
       "475  2020-10-25 00:00:00\n",
       "476  2020-10-26 00:00:00\n",
       "477  2020-10-30 00:00:00\n",
       "478  2020-10-31 00:00:00\n",
       "479  2020-11-01 00:00:00\n",
       "480  2020-11-07 00:00:00\n",
       "481  2020-11-12 00:00:00\n",
       "482  2020-11-17 00:00:00\n",
       "483  2020-11-20 00:00:00\n",
       "484  2020-11-21 00:00:00\n",
       "485  2020-11-23 00:00:00\n",
       "486  2020-11-24 00:00:00\n",
       "487  2020-11-27 00:00:00\n",
       "488  2020-11-28 00:00:00\n",
       "489  2020-12-04 00:00:00\n",
       "490  2020-12-06 00:00:00\n",
       "491  2020-12-08 00:00:00\n",
       "492  2020-12-09 00:00:00\n",
       "493  2020-12-10 00:00:00\n",
       "494  2020-12-12 00:00:00\n",
       "495  2020-12-17 00:00:00\n",
       "496  2020-12-18 00:00:00\n",
       "497  2020-12-19 00:00:00\n",
       "498  2020-12-20 00:00:00\n",
       "499  2020-12-21 00:00:00\n",
       "500  2020-12-27 00:00:00\n",
       "501  2020-12-29 00:00:00\n",
       "502  2020-12-30 00:00:00\n",
       "\n",
       "[503 rows x 1 columns]"
      ]
     },
     "execution_count": 10,
     "metadata": {},
     "output_type": "execute_result"
    }
   ],
   "source": [
    "q3 = \"SELECT distinct(invoice_date) FROM invoice\"\n",
    "\n",
    "run_query(q3)"
   ]
  },
  {
   "cell_type": "markdown",
   "metadata": {},
   "source": [
    "This fictional dataset shows invoices dated from January 2017 to December 2020. Therefore, we will assume that \"today\" is December 2020 and use this to determine the length of tenure of the three sales agents."
   ]
  },
  {
   "cell_type": "code",
   "execution_count": 11,
   "metadata": {
    "collapsed": false
   },
   "outputs": [
    {
     "data": {
      "text/html": [
       "<div>\n",
       "<style scoped>\n",
       "    .dataframe tbody tr th:only-of-type {\n",
       "        vertical-align: middle;\n",
       "    }\n",
       "\n",
       "    .dataframe tbody tr th {\n",
       "        vertical-align: top;\n",
       "    }\n",
       "\n",
       "    .dataframe thead th {\n",
       "        text-align: right;\n",
       "    }\n",
       "</style>\n",
       "<table border=\"1\" class=\"dataframe\">\n",
       "  <thead>\n",
       "    <tr style=\"text-align: right;\">\n",
       "      <th></th>\n",
       "      <th>hire_date</th>\n",
       "      <th>manager</th>\n",
       "      <th>total_sales</th>\n",
       "      <th>tenure</th>\n",
       "    </tr>\n",
       "    <tr>\n",
       "      <th>employee</th>\n",
       "      <th></th>\n",
       "      <th></th>\n",
       "      <th></th>\n",
       "      <th></th>\n",
       "    </tr>\n",
       "  </thead>\n",
       "  <tbody>\n",
       "    <tr>\n",
       "      <th>Steve Johnson</th>\n",
       "      <td>2017-10-17</td>\n",
       "      <td>Nancy Edwards</td>\n",
       "      <td>1393.92</td>\n",
       "      <td>38.440214</td>\n",
       "    </tr>\n",
       "    <tr>\n",
       "      <th>Margaret Park</th>\n",
       "      <td>2017-05-03</td>\n",
       "      <td>Nancy Edwards</td>\n",
       "      <td>1584.00</td>\n",
       "      <td>43.926980</td>\n",
       "    </tr>\n",
       "    <tr>\n",
       "      <th>Jane Peacock</th>\n",
       "      <td>2017-04-01</td>\n",
       "      <td>Nancy Edwards</td>\n",
       "      <td>1731.51</td>\n",
       "      <td>44.978336</td>\n",
       "    </tr>\n",
       "  </tbody>\n",
       "</table>\n",
       "</div>"
      ],
      "text/plain": [
       "               hire_date        manager  total_sales     tenure\n",
       "employee                                                       \n",
       "Steve Johnson 2017-10-17  Nancy Edwards      1393.92  38.440214\n",
       "Margaret Park 2017-05-03  Nancy Edwards      1584.00  43.926980\n",
       "Jane Peacock  2017-04-01  Nancy Edwards      1731.51  44.978336"
      ]
     },
     "execution_count": 11,
     "metadata": {},
     "output_type": "execute_result"
    }
   ],
   "source": [
    "import datetime\n",
    "import numpy as np\n",
    "# Convert to datetime type\n",
    "employee_sales['hire_date'] = pd.to_datetime(employee_sales['hire_date'])\n",
    "# Create datetime object for \"today\"\n",
    "today = datetime.datetime(year=2020, month=12, day=30)\n",
    "# Calculate the length of tenure in months\n",
    "employee_sales['tenure'] = (today - employee_sales['hire_date']) / np.timedelta64(1, 'M')\n",
    "employee_sales"
   ]
  },
  {
   "cell_type": "code",
   "execution_count": 27,
   "metadata": {
    "collapsed": false
   },
   "outputs": [
    {
     "data": {
      "text/plain": [
       "array([<matplotlib.axes._subplots.AxesSubplot object at 0x7f9f489f54a8>,\n",
       "       <matplotlib.axes._subplots.AxesSubplot object at 0x7f9f48bf3cf8>],\n",
       "      dtype=object)"
      ]
     },
     "execution_count": 27,
     "metadata": {},
     "output_type": "execute_result"
    },
    {
     "data": {
      "image/png": "[encoded data removed]",
      "text/plain": [
       "<matplotlib.figure.Figure at 0x7f9f48d5d7b8>"
      ]
     },
     "metadata": {},
     "output_type": "display_data"
    }
   ],
   "source": [
    "employee_sales[['total_sales','tenure']].plot.bar(figsize=(10,10),subplots=True, rot=0, legend=False)"
   ]
  },
  {
   "cell_type": "markdown",
   "metadata": {
    "collapsed": true
   },
   "source": [
    "All three sales agents have the same manager, so that is not a source of differences among their sales. The main difference between the employees seems to be their length of tenure. Steve Johnson has worked for 38 months, which is the least among the three sales agents, and he also has the smallest sales at \\$1394. Jane Peacock has worked the most at 45 months and also has the most sales at \\$1731. Margaret Park is in the middle at 44 months and \\$1584. Therefore, length of time spent working at Chinook as a sales agent seems to be directly correlated with total sales."
   ]
  },
  {
   "cell_type": "markdown",
   "metadata": {
    "collapsed": true
   },
   "source": [
    "## Customer Data by Country\n",
    "\n",
    "Next, we will analyze the customer data by country; specifically, for each country, we will calculate the following:\n",
    " - total number of customers\n",
    " - total value of sales\n",
    " - average value of sales per customer\n",
    " - average order value\n",
    "\n",
    "Those countries that have only one customer will be grouped as \"Other\"."
   ]
  },
  {
   "cell_type": "code",
   "execution_count": 13,
   "metadata": {
    "collapsed": false
   },
   "outputs": [
    {
     "ename": "OperationalError",
     "evalue": "table country_data already exists",
     "output_type": "error",
     "traceback": [
      "\u001b[1;31m\u001b[0m",
      "\u001b[1;31mOperationalError\u001b[0mTraceback (most recent call last)",
      "\u001b[1;32m<ipython-input-13-ed2b12e6b5dd>\u001b[0m in \u001b[0;36m<module>\u001b[1;34m()\u001b[0m\n\u001b[0;32m     22\u001b[0m '''\n\u001b[0;32m     23\u001b[0m \u001b[1;33m\u001b[0m\u001b[0m\n\u001b[1;32m---> 24\u001b[1;33m \u001b[0mrun_command\u001b[0m\u001b[1;33m(\u001b[0m\u001b[0mc1\u001b[0m\u001b[1;33m)\u001b[0m\u001b[1;33m\u001b[0m\u001b[0m\n\u001b[0m",
      "\u001b[1;32m<ipython-input-3-42b9262cd24f>\u001b[0m in \u001b[0;36mrun_command\u001b[1;34m(c)\u001b[0m\n\u001b[0;32m      3\u001b[0m     \u001b[1;32mwith\u001b[0m \u001b[0msqlite3\u001b[0m\u001b[1;33m.\u001b[0m\u001b[0mconnect\u001b[0m\u001b[1;33m(\u001b[0m\u001b[1;34m'chinook.db'\u001b[0m\u001b[1;33m)\u001b[0m \u001b[1;32mas\u001b[0m \u001b[0mconn\u001b[0m\u001b[1;33m:\u001b[0m\u001b[1;33m\u001b[0m\u001b[0m\n\u001b[0;32m      4\u001b[0m         \u001b[0mconn\u001b[0m\u001b[1;33m.\u001b[0m\u001b[0misolation_level\u001b[0m \u001b[1;33m=\u001b[0m \u001b[1;32mNone\u001b[0m\u001b[1;33m\u001b[0m\u001b[0m\n\u001b[1;32m----> 5\u001b[1;33m         \u001b[0mconn\u001b[0m\u001b[1;33m.\u001b[0m\u001b[0mexecute\u001b[0m\u001b[1;33m(\u001b[0m\u001b[0mc\u001b[0m\u001b[1;33m)\u001b[0m\u001b[1;33m\u001b[0m\u001b[0m\n\u001b[0m",
      "\u001b[1;31mOperationalError\u001b[0m: table country_data already exists"
     ]
    }
   ],
   "source": [
    "# Create a new view that has a column where country is \"Other\" for\n",
    "# the countries with only one customer\n",
    "c1 = '''\n",
    "CREATE VIEW country_data AS\n",
    "WITH count_oth AS (\n",
    "    SELECT\n",
    "        COUNT(c.customer_id),\n",
    "        CASE\n",
    "            WHEN COUNT(c.customer_id) = 1 THEN \"Other\"\n",
    "            ELSE c.country\n",
    "            END AS country_oth\n",
    "    FROM customer c\n",
    "    GROUP BY c.country\n",
    "    )\n",
    "SELECT\n",
    "    c.customer_id,\n",
    "    CASE\n",
    "        WHEN c.country NOT IN (SELECT country_oth FROM count_oth) THEN \"Other\"\n",
    "        ELSE c.country\n",
    "        END AS country_other\n",
    "FROM customer c\n",
    "'''\n",
    "\n",
    "run_command(c1)"
   ]
  },
  {
   "cell_type": "code",
   "execution_count": null,
   "metadata": {
    "collapsed": false,
    "scrolled": true
   },
   "outputs": [],
   "source": [
    "# Check that the table is correct\n",
    "q4 = \"SELECT * FROM country_data\"\n",
    "run_query(q4)"
   ]
  },
  {
   "cell_type": "code",
   "execution_count": 24,
   "metadata": {
    "collapsed": false
   },
   "outputs": [
    {
     "data": {
      "text/html": [
       "<div>\n",
       "<style scoped>\n",
       "    .dataframe tbody tr th:only-of-type {\n",
       "        vertical-align: middle;\n",
       "    }\n",
       "\n",
       "    .dataframe tbody tr th {\n",
       "        vertical-align: top;\n",
       "    }\n",
       "\n",
       "    .dataframe thead th {\n",
       "        text-align: right;\n",
       "    }\n",
       "</style>\n",
       "<table border=\"1\" class=\"dataframe\">\n",
       "  <thead>\n",
       "    <tr style=\"text-align: right;\">\n",
       "      <th></th>\n",
       "      <th>country</th>\n",
       "      <th>num_customers</th>\n",
       "      <th>total_sales</th>\n",
       "      <th>avg_sales_per_cust</th>\n",
       "      <th>avg_order_value</th>\n",
       "    </tr>\n",
       "  </thead>\n",
       "  <tbody>\n",
       "    <tr>\n",
       "      <th>0</th>\n",
       "      <td>USA</td>\n",
       "      <td>131</td>\n",
       "      <td>1040.49</td>\n",
       "      <td>80.04</td>\n",
       "      <td>7.94</td>\n",
       "    </tr>\n",
       "    <tr>\n",
       "      <th>1</th>\n",
       "      <td>Canada</td>\n",
       "      <td>76</td>\n",
       "      <td>535.59</td>\n",
       "      <td>66.95</td>\n",
       "      <td>7.05</td>\n",
       "    </tr>\n",
       "    <tr>\n",
       "      <th>2</th>\n",
       "      <td>Brazil</td>\n",
       "      <td>61</td>\n",
       "      <td>427.68</td>\n",
       "      <td>85.54</td>\n",
       "      <td>7.01</td>\n",
       "    </tr>\n",
       "    <tr>\n",
       "      <th>3</th>\n",
       "      <td>France</td>\n",
       "      <td>50</td>\n",
       "      <td>389.07</td>\n",
       "      <td>77.81</td>\n",
       "      <td>7.78</td>\n",
       "    </tr>\n",
       "    <tr>\n",
       "      <th>4</th>\n",
       "      <td>Germany</td>\n",
       "      <td>41</td>\n",
       "      <td>334.62</td>\n",
       "      <td>83.66</td>\n",
       "      <td>8.16</td>\n",
       "    </tr>\n",
       "    <tr>\n",
       "      <th>5</th>\n",
       "      <td>Czech Republic</td>\n",
       "      <td>30</td>\n",
       "      <td>273.24</td>\n",
       "      <td>136.62</td>\n",
       "      <td>9.11</td>\n",
       "    </tr>\n",
       "    <tr>\n",
       "      <th>6</th>\n",
       "      <td>United Kingdom</td>\n",
       "      <td>28</td>\n",
       "      <td>245.52</td>\n",
       "      <td>81.84</td>\n",
       "      <td>8.77</td>\n",
       "    </tr>\n",
       "    <tr>\n",
       "      <th>7</th>\n",
       "      <td>Portugal</td>\n",
       "      <td>29</td>\n",
       "      <td>185.13</td>\n",
       "      <td>92.57</td>\n",
       "      <td>6.38</td>\n",
       "    </tr>\n",
       "    <tr>\n",
       "      <th>8</th>\n",
       "      <td>India</td>\n",
       "      <td>21</td>\n",
       "      <td>183.15</td>\n",
       "      <td>91.57</td>\n",
       "      <td>8.72</td>\n",
       "    </tr>\n",
       "    <tr>\n",
       "      <th>9</th>\n",
       "      <td>Other</td>\n",
       "      <td>147</td>\n",
       "      <td>1094.94</td>\n",
       "      <td>73.00</td>\n",
       "      <td>7.45</td>\n",
       "    </tr>\n",
       "  </tbody>\n",
       "</table>\n",
       "</div>"
      ],
      "text/plain": [
       "          country  num_customers  total_sales  avg_sales_per_cust  \\\n",
       "0             USA            131      1040.49               80.04   \n",
       "1          Canada             76       535.59               66.95   \n",
       "2          Brazil             61       427.68               85.54   \n",
       "3          France             50       389.07               77.81   \n",
       "4         Germany             41       334.62               83.66   \n",
       "5  Czech Republic             30       273.24              136.62   \n",
       "6  United Kingdom             28       245.52               81.84   \n",
       "7        Portugal             29       185.13               92.57   \n",
       "8           India             21       183.15               91.57   \n",
       "9           Other            147      1094.94               73.00   \n",
       "\n",
       "   avg_order_value  \n",
       "0             7.94  \n",
       "1             7.05  \n",
       "2             7.01  \n",
       "3             7.78  \n",
       "4             8.16  \n",
       "5             9.11  \n",
       "6             8.77  \n",
       "7             6.38  \n",
       "8             8.72  \n",
       "9             7.45  "
      ]
     },
     "execution_count": 24,
     "metadata": {},
     "output_type": "execute_result"
    }
   ],
   "source": [
    "q5 = '''\n",
    "SELECT\n",
    "    cd.country_other country,\n",
    "    COUNT(cd.customer_id) num_customers,\n",
    "    SUM(i.total) total_sales,\n",
    "    ROUND(CAST(SUM(i.total) as float) / COUNT(DISTINCT(cd.customer_id)),2) avg_sales_per_cust,\n",
    "    ROUND(AVG(i.total),2) avg_order_value\n",
    "FROM country_data cd\n",
    "INNER JOIN invoice i ON i.customer_id = cd.customer_id\n",
    "GROUP BY 1\n",
    "ORDER BY \n",
    "    CASE \n",
    "        WHEN country = \"Other\" THEN 0\n",
    "        ELSE total_sales\n",
    "        END\n",
    "DESC;\n",
    "'''\n",
    "\n",
    "run_query(q5)"
   ]
  },
  {
   "cell_type": "code",
   "execution_count": 25,
   "metadata": {
    "collapsed": true
   },
   "outputs": [],
   "source": [
    "# Save these results to a DataFrame.\n",
    "countries = run_query(q5)\n",
    "\n",
    "# Use .set_index() to make the countries the index labels for the plots.\n",
    "countries.set_index('country', drop=True, inplace=True)\n",
    "\n",
    "# Use the workaround to get each bar to be a different color.\n",
    "# From: https://github.com/pandas-dev/pandas/issues/16822\n",
    "# Colors are the Tableau 10 from http://tableaufriction.blogspot.com/2012/11/finally-you-can-use-tableau-data-colors.html\n",
    "countries['color'] = [(31/255, 119/255, 180/255), (255/255, 127/255, 14/255), (44/255, 160/255, 44/255), (214/255, 39/255, 40/255), (148/255, 103/255, 189/255), (140/255, 86/255, 75/255), (227/255, 119/255, 194/255), (127/255, 127/255, 127/255), (188/255, 189/255, 34/255), (23/255, 190/255, 207/255)]"
   ]
  },
  {
   "cell_type": "code",
   "execution_count": 26,
   "metadata": {
    "collapsed": false
   },
   "outputs": [
    {
     "data": {
      "image/png": "[encoded data removed]",
      "text/plain": [
       "<matplotlib.figure.Figure at 0x7f9f48720ef0>"
      ]
     },
     "metadata": {},
     "output_type": "display_data"
    }
   ],
   "source": [
    "# Create a 2x2 figure.\n",
    "axes = countries.plot.bar(figsize=(10,10), subplots=True, \n",
    "                          layout=(2,2), rot=90, \n",
    "                          title=\"Customers and Sales by Country\", \n",
    "                          legend=False, color=[countries['color']])"
   ]
  },
  {
   "cell_type": "markdown",
   "metadata": {
    "collapsed": true
   },
   "source": [
    "Based on the above results, Chinook's marketing team should target the Czech Republic as it seems to have the greatest potential for growth. Specifically, the Czech Republic has by far the highest average sales per customer, meaning that a single customer from that country would result in more profit than a customer from another country. In addition, there is currently a low number of Czech customers (30), so marketing could be very effective in this area. "
   ]
  },
  {
   "cell_type": "markdown",
   "metadata": {},
   "source": [
    "## Albums vs. Tracks\n",
    "\n",
    "Currently, the Chinook store is setup to allow customers to either purchase a whole album or purchase a collection of one or more individual tracks. The store does not allow customers to purchase a whole album and then add individual tracks to that purchase. \n",
    "\n",
    "Let's find out what percentage of purchases are individual tracks and what percentage are whole albums. In this case, we have two 'edge cases' to consider:\n",
    " - Albums that have only one or two tracks are likely to be purchased by customers as part of a collection of individual tracks.\n",
    " - Customers may decided to manually select every track from an album and then add a few individual tracks from other albums to their purchase.\n",
    "\n",
    "Here, we will assume that the second case does not happen often and can be safely ignored. The first case would not affect potential revenue from selling individual tracks as opposed to full albums and can therefore also be neglected."
   ]
  },
  {
   "cell_type": "code",
   "execution_count": 75,
   "metadata": {
    "collapsed": false
   },
   "outputs": [
    {
     "data": {
      "text/html": [
       "<div>\n",
       "<style scoped>\n",
       "    .dataframe tbody tr th:only-of-type {\n",
       "        vertical-align: middle;\n",
       "    }\n",
       "\n",
       "    .dataframe tbody tr th {\n",
       "        vertical-align: top;\n",
       "    }\n",
       "\n",
       "    .dataframe thead th {\n",
       "        text-align: right;\n",
       "    }\n",
       "</style>\n",
       "<table border=\"1\" class=\"dataframe\">\n",
       "  <thead>\n",
       "    <tr style=\"text-align: right;\">\n",
       "      <th></th>\n",
       "      <th>al_tr</th>\n",
       "      <th>num_purchases</th>\n",
       "      <th>percent_purchases</th>\n",
       "    </tr>\n",
       "  </thead>\n",
       "  <tbody>\n",
       "    <tr>\n",
       "      <th>0</th>\n",
       "      <td>album</td>\n",
       "      <td>111</td>\n",
       "      <td>18.0</td>\n",
       "    </tr>\n",
       "    <tr>\n",
       "      <th>1</th>\n",
       "      <td>tracks</td>\n",
       "      <td>500</td>\n",
       "      <td>81.0</td>\n",
       "    </tr>\n",
       "  </tbody>\n",
       "</table>\n",
       "</div>"
      ],
      "text/plain": [
       "    al_tr  num_purchases  percent_purchases\n",
       "0   album            111               18.0\n",
       "1  tracks            500               81.0"
      ]
     },
     "execution_count": 75,
     "metadata": {},
     "output_type": "execute_result"
    }
   ],
   "source": [
    "q6 = '''\n",
    "WITH \n",
    "    albums AS (\n",
    "        SELECT \n",
    "            album_id,\n",
    "            COUNT(track_id) alb_tr_cnt\n",
    "        FROM track\n",
    "        GROUP BY 1\n",
    "        HAVING alb_tr_cnt > 2),\n",
    "    invoice_al AS (\n",
    "        SELECT\n",
    "            il.invoice_id,\n",
    "            t.album_id,\n",
    "            COUNT(DISTINCT(t.track_id)) inv_tr_cnt\n",
    "        FROM track t\n",
    "        INNER JOIN invoice_line il ON il.track_id = t.track_id\n",
    "        GROUP BY 1, 2)\n",
    "\n",
    "SELECT \n",
    "    CASE\n",
    "        WHEN inv_tr_cnt = alb_tr_cnt THEN 'album'\n",
    "        ELSE 'tracks'\n",
    "        END AS al_tr,\n",
    "    COUNT(DISTINCT(i.invoice_id)) num_purchases,\n",
    "    ROUND(CAST(COUNT(DISTINCT(i.invoice_id)) AS Float) / (SELECT COUNT(DISTINCT(invoice_id)) FROM invoice_line) * 100, 0) percent_purchases\n",
    "FROM invoice_al i\n",
    "INNER JOIN albums a ON a.album_id = i.album_id\n",
    "GROUP BY 1\n",
    "'''\n",
    "run_query(q6)"
   ]
  },
  {
   "cell_type": "code",
   "execution_count": 74,
   "metadata": {
    "collapsed": false
   },
   "outputs": [
    {
     "data": {
      "text/plain": [
       "<matplotlib.axes._subplots.AxesSubplot at 0x7f9f48127668>"
      ]
     },
     "execution_count": 74,
     "metadata": {},
     "output_type": "execute_result"
    },
    {
     "data": {
      "image/png": "[encoded data removed]",
      "text/plain": [
       "<matplotlib.figure.Figure at 0x7f9f480f3668>"
      ]
     },
     "metadata": {},
     "output_type": "display_data"
    }
   ],
   "source": [
    "# Save the results to a DataFrame.\n",
    "alb_trk = run_query(q6) \n",
    "\n",
    "# Use .set_index() to make the genres the index labels for the plots.\n",
    "alb_trk.set_index('al_tr', drop=True, inplace=True)\n",
    "\n",
    "alb_trk.num_purchases.plot.pie(figsize=(5,5), \n",
    "                                   title = \"Percentage of sales of a full album vs. individual tracks\",\n",
    "                                   autopct='%1.f%%',\n",
    "                                   colors=[(255/255, 127/255, 14/255), (31/255, 119/255, 180/255)])"
   ]
  },
  {
   "cell_type": "markdown",
   "metadata": {},
   "source": [
    "Because more than 80% of all invoices are individual track sales, Chinook could save money by no longer purchasing full albums from record companies without seeing a drop-off in sales. "
   ]
  },
  {
   "cell_type": "markdown",
   "metadata": {},
   "source": [
    "### Next Steps\n",
    "\n",
    "Some potential next steps for analysis:\n",
    " - Which artist is used in the most playlists?\n",
    " - How many tracks have been purchased vs not purchased?\n",
    " - Is the range of tracks in the store reflective of their sales popularity?\n",
    " - Do protected vs non-protected media types affect popularity?"
   ]
  },
  {
   "cell_type": "code",
   "execution_count": null,
   "metadata": {
    "collapsed": true
   },
   "outputs": [],
   "source": []
  }
 ],
 "metadata": {
  "kernelspec": {
   "display_name": "Python 3",
   "language": "python",
   "name": "python3"
  },
  "language_info": {
   "codemirror_mode": {
    "name": "ipython",
    "version": 3
   },
   "file_extension": ".py",
   "mimetype": "text/x-python",
   "name": "python",
   "nbconvert_exporter": "python",
   "pygments_lexer": "ipython3",
   "version": "3.4.3"
  }
 },
 "nbformat": 4,
 "nbformat_minor": 2
}
